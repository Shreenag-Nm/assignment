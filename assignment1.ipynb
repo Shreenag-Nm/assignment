{
 "cells": [
  {
   "cell_type": "markdown",
   "metadata": {},
   "source": [
    "# program to write prime number in an interval"
   ]
  },
  {
   "cell_type": "code",
   "execution_count": 2,
   "metadata": {},
   "outputs": [
    {
     "name": "stdout",
     "output_type": "stream",
     "text": [
      "1\n",
      "3\n",
      "5\n",
      "7\n",
      "9\n",
      "11\n",
      "13\n",
      "15\n",
      "17\n",
      "19\n",
      "21\n",
      "23\n"
     ]
    }
   ],
   "source": [
    "n=25\n",
    "for i in range(0,n):\n",
    "    if i%2 != 0:   #Find the prime number using range function\n",
    "        print(i)\n",
    "        continue"
   ]
  },
  {
   "cell_type": "markdown",
   "metadata": {},
   "source": [
    "# To find factorial of a number"
   ]
  },
  {
   "cell_type": "code",
   "execution_count": 11,
   "metadata": {},
   "outputs": [
    {
     "name": "stdout",
     "output_type": "stream",
     "text": [
      "Enter number:5\n",
      "factorial is:\n",
      "120\n"
     ]
    }
   ],
   "source": [
    "import math\n",
    "fact=int(input(\"Enter number:\"))\n",
    "if fact< 0:\n",
    "    print(\"Enter non negative value\") #if the given value is -ve\n",
    "elif fact==1:\n",
    "    print(\"Factorial of 1 is 1.\") #ofcourse factorial of one is 1\n",
    "else:\n",
    "    print(\"factorial is:\")\n",
    "    print(math.factorial(fact)) #importing the maths module and simply calculating fatorial of number"
   ]
  },
  {
   "cell_type": "markdown",
   "metadata": {},
   "source": [
    "# To find sum of n number"
   ]
  },
  {
   "cell_type": "code",
   "execution_count": 14,
   "metadata": {},
   "outputs": [
    {
     "name": "stdout",
     "output_type": "stream",
     "text": [
      "Enter a number:16\n",
      "136\n"
     ]
    }
   ],
   "source": [
    "number=int(input(\"Enter a number:\")) #enter n number\n",
    "if number < 0:\n",
    "    print(\"please enter any positive number.\") #if number is negative\n",
    "else:\n",
    "    sum=0\n",
    "    while number > 0:\n",
    "        sum=sum+number\n",
    "        number-=1\n",
    "    print(sum)      #after calculating the sum of number it comes out from while loop\n",
    "        "
   ]
  }
 ],
 "metadata": {
  "kernelspec": {
   "display_name": "Python 3",
   "language": "python",
   "name": "python3"
  },
  "language_info": {
   "codemirror_mode": {
    "name": "ipython",
    "version": 3
   },
   "file_extension": ".py",
   "mimetype": "text/x-python",
   "name": "python",
   "nbconvert_exporter": "python",
   "pygments_lexer": "ipython3",
   "version": "3.8.3"
  }
 },
 "nbformat": 4,
 "nbformat_minor": 4
}
